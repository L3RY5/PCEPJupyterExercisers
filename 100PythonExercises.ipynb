{
 "cells": [
  {
   "cell_type": "code",
   "execution_count": 1,
   "id": "8e7781a9-bf6b-4dc6-9ecb-c3ed30adca70",
   "metadata": {},
   "outputs": [
    {
     "data": {
      "text/plain": [
       "3.0"
      ]
     },
     "execution_count": 1,
     "metadata": {},
     "output_type": "execute_result"
    }
   ],
   "source": [
    "import math\n",
    "math.sqrt(9)"
   ]
  },
  {
   "cell_type": "code",
   "execution_count": 9,
   "id": "67f2f309-1706-402e-96eb-2e5d13285df5",
   "metadata": {},
   "outputs": [
    {
     "name": "stdout",
     "output_type": "stream",
     "text": [
      "['__doc__', '__file__', '__loader__', '__name__', '__package__', '__spec__', 'acos', 'acosh', 'asin', 'asinh', 'atan', 'atan2', 'atanh', 'cbrt', 'ceil', 'comb', 'copysign', 'cos', 'cosh', 'degrees', 'dist', 'e', 'erf', 'erfc', 'exp', 'exp2', 'expm1', 'fabs', 'factorial', 'floor', 'fmod', 'frexp', 'fsum', 'gamma', 'gcd', 'hypot', 'inf', 'isclose', 'isfinite', 'isinf', 'isnan', 'isqrt', 'lcm', 'ldexp', 'lgamma', 'log', 'log10', 'log1p', 'log2', 'modf', 'nan', 'nextafter', 'perm', 'pi', 'pow', 'prod', 'radians', 'remainder', 'sin', 'sinh', 'sqrt', 'tan', 'tanh', 'tau', 'trunc', 'ulp']\n",
      "\n",
      "0.5403023058681398\n"
     ]
    }
   ],
   "source": [
    "#The script is supposed to output the cosine of angle 1 radian, but instead, \n",
    "#it is throwing an error. Please fix the code so that it prints out the expected output\n",
    "\n",
    "import math\n",
    "#print(math.cosine(1))\n",
    "print(dir(math))\n",
    "print(\"\")\n",
    "print(math.cos(1))"
   ]
  },
  {
   "cell_type": "code",
   "execution_count": 21,
   "id": "088c8660-c878-4803-a2ed-b08e2a10eb12",
   "metadata": {},
   "outputs": [
    {
     "name": "stdout",
     "output_type": "stream",
     "text": [
      "Help on built-in function pow in module math:\n",
      "\n",
      "pow(x, y, /)\n",
      "    Return x**y (x to the power of y).\n",
      "\n",
      "----------\n",
      "8.0\n"
     ]
    }
   ],
   "source": [
    "#Exercise 40 - Type Error\n",
    "#Please try to guess what is missing in the following code and add the missing part so that the code works fine.\n",
    "\n",
    "import math\n",
    "#print(math.pow(2))\n",
    "\n",
    "# TODO \n",
    "help(math.pow)\n",
    "\n",
    "print(\"----------\")\n",
    "print(math.pow(2,3))"
   ]
  },
  {
   "cell_type": "code",
   "execution_count": 23,
   "id": "2e01eafe-9f3d-4296-9629-9fa5de2cadb1",
   "metadata": {},
   "outputs": [],
   "source": [
    "# Exercise 41 - Letters in file\n",
    "#Create a script that generates a text file with all letters of the English alphabet inside it, one letter per line.\n",
    "import string\n",
    " \n",
    "with open(\"letters.txt\", \"w\") as file:\n",
    "    for letter in string.ascii_lowercase:\n",
    "        file.write(letter + \"\\n\")"
   ]
  },
  {
   "cell_type": "code",
   "execution_count": 28,
   "id": "9e79a0df-960b-45b1-818c-98cc3e2459ab",
   "metadata": {},
   "outputs": [
    {
     "name": "stdout",
     "output_type": "stream",
     "text": [
      "Help on class zip in module builtins:\n",
      "\n",
      "class zip(object)\n",
      " |  zip(*iterables, strict=False) --> Yield tuples until an input is exhausted.\n",
      " |  \n",
      " |     >>> list(zip('abcdefg', range(3), range(4)))\n",
      " |     [('a', 0, 0), ('b', 1, 1), ('c', 2, 2)]\n",
      " |  \n",
      " |  The zip object yields n-length tuples, where n is the number of iterables\n",
      " |  passed as positional arguments to zip().  The i-th element in every tuple\n",
      " |  comes from the i-th iterable argument to zip().  This continues until the\n",
      " |  shortest argument is exhausted.\n",
      " |  \n",
      " |  If strict is true and one of the arguments is exhausted before the others,\n",
      " |  raise a ValueError.\n",
      " |  \n",
      " |  Methods defined here:\n",
      " |  \n",
      " |  __getattribute__(self, name, /)\n",
      " |      Return getattr(self, name).\n",
      " |  \n",
      " |  __iter__(self, /)\n",
      " |      Implement iter(self).\n",
      " |  \n",
      " |  __next__(self, /)\n",
      " |      Implement next(self).\n",
      " |  \n",
      " |  __reduce__(...)\n",
      " |      Return state information for pickling.\n",
      " |  \n",
      " |  __setstate__(...)\n",
      " |      Set state information for unpickling.\n",
      " |  \n",
      " |  ----------------------------------------------------------------------\n",
      " |  Static methods defined here:\n",
      " |  \n",
      " |  __new__(*args, **kwargs) from builtins.type\n",
      " |      Create and return a new object.  See help(type) for accurate signature.\n",
      "\n",
      "5\n",
      "7\n",
      "9\n"
     ]
    }
   ],
   "source": [
    "# Exercise 42 - Iterating Multiple Sequences\n",
    "#Print out in each line the sum of homologous items of the two sequences.\n",
    "\n",
    "a = [1, 2, 3]\n",
    "b = (4, 5, 6)\n",
    "\n",
    "#Expected output:  5 7 9\n",
    "help(zip)\n",
    "for i,j in zip(a , b):\n",
    "    print(i + j)\n"
   ]
  },
  {
   "cell_type": "code",
   "execution_count": 41,
   "id": "f7e467bf-9e9b-441a-928c-fa37fbcd81d4",
   "metadata": {},
   "outputs": [],
   "source": [
    "#Exercise 43 - Letters Two by Two\n",
    "#Create a script that generates a file where all letters of the English alphabet are listed two in each line. The inside of the text file would look like:\n",
    "\n",
    "#ab\n",
    "#cd\n",
    "#ef\n",
    "\n",
    "import string\n",
    "\n",
    "with open(\"lettersPerTwo.txt\", \"w\") as file:\n",
    "    for letter1, letter2 in zip(string.ascii_lowercase[0::2],string.ascii_lowercase[1::2]): #\n",
    "        file.write(letter1 + letter2+ \"\\n\")\n",
    "    \n",
    "# string.ascii_lowercase =  lowercase of string function gives all the letters of the alphabet in lowercase\n",
    "# [0::2] = from elemet 0 tilml the end increment by 2 , [1::2] = from elemet 1 till the end increment by 2.\n",
    "#With  zip we can take elemnt out of each iof this \"LIST\" and go through threm one by one  homologouslly\n"
   ]
  },
  {
   "cell_type": "code",
   "execution_count": 58,
   "id": "e0ccac1b-b1f4-4919-91a9-04c2a8a70219",
   "metadata": {},
   "outputs": [],
   "source": [
    "#Exercise 44 - Letters Three by Three\n",
    "#Question: Create a script that generates a file where all letters of the English alphabet are listed three in each line. The inside of the text file would look like:\n",
    "\n",
    "#abc\n",
    "#def\n",
    "#ghi\n",
    "\n",
    "import string\n",
    "letters = string.ascii_lowercase + \" \"\n",
    "L1 = letters[0::3]\n",
    "L2 = letters[1::3]\n",
    "L3 = letters[2::3]\n",
    "with open(\"lettersPerThree.txt\", \"w\") as file:\n",
    "    for letter1, letter2,letter3 in zip(L1,L2,L3): #\n",
    "        file.write(letter1 + letter2 +letter3+ \"\\n\")\n"
   ]
  },
  {
   "cell_type": "code",
   "execution_count": 61,
   "id": "9e09b25d-cd90-4415-834b-8fb775086ff6",
   "metadata": {},
   "outputs": [],
   "source": [
    "#Exercise 45 - One File per Letter\n",
    "\n",
    "#Question: Please create a script that generates 26 text files named a.txt, b.txt, and so on up to z.txt. Each file should contain a letter reflecting its filename. \n",
    "#So, a.txt will contain letter a, b.txt will contain letter b, and so on.\n",
    "\n",
    "import string, os\n",
    "\n",
    "if not os.path.exists(\"letters\"):\n",
    "    os.makedirs(\"letters\")\n",
    "for letter in string.ascii_lowercase:\n",
    "    with open(\"letters/\" + letter + \".txt\", \"w\") as file:\n",
    "        file.write(letter + \"\\n\")"
   ]
  },
  {
   "cell_type": "code",
   "execution_count": 70,
   "id": "f5d7e163-7706-41a2-9089-f76ccdc19a50",
   "metadata": {},
   "outputs": [
    {
     "name": "stdout",
     "output_type": "stream",
     "text": [
      "['o', 'i', 's', 'f', 'l', 'r', 'y', 'a', 'd', 'u', 'p', 'v', 'h', 'k', 'w', 'j', 'b', 'm', 'c', 'g', 'n', 'x', 'e', 't', 'z', 'q']\n",
      "['a', 'b', 'c', 'd', 'e', 'f', 'g', 'h', 'i', 'j', 'k', 'l', 'm', 'n', 'o', 'p', 'q', 'r', 's', 't', 'u', 'v', 'w', 'x', 'y', 'z']\n"
     ]
    }
   ],
   "source": [
    "#Exercise 46 - letter extraction\n",
    "# write a script that extactsd the letters from the 26 Test files create  an d put the letters in a list\n",
    "\n",
    "import glob\n",
    "letters = []\n",
    "file_list = glob.glob(\"letters/*.txt\")\n",
    "\n",
    "for filename in file_list: \n",
    "    with open(filename, \"r\") as file:\n",
    "        letters.append(file.read().strip(\"\\n\"))\n",
    "        \n",
    "print(letters)\n",
    "print(sorted(letters))"
   ]
  },
  {
   "cell_type": "code",
   "execution_count": 74,
   "id": "cc025232-fe42-4826-8a93-c6c3a42f91e2",
   "metadata": {},
   "outputs": [
    {
     "name": "stdout",
     "output_type": "stream",
     "text": [
      "['o', 'y', 'p', 'h', 'n', 't']\n"
     ]
    }
   ],
   "source": [
    "# exercise 47 - Condiotional extractor\n",
    "#write a script that iterrate trought each of the 26 text files. checks if the letter is in the string \"Python\" and put the letter in a list it is\n",
    "\n",
    "import glob\n",
    "letters = []\n",
    "file_list = glob.glob(\"letters/*.txt\")\n",
    "Var_python = \"python\"\n",
    "\n",
    "for filename in file_list: \n",
    "    with open(filename , \"r\") as file:\n",
    "        letter = file.read().strip(\"\\n\")\n",
    "    if letter in Var_python:\n",
    "        letters.append(letter)\n",
    "        \n",
    "\n",
    "print(letters)\n",
    "        \n",
    "\n"
   ]
  },
  {
   "cell_type": "code",
   "execution_count": 80,
   "id": "556bf8bc-d761-42ec-9c5c-e981255f1c16",
   "metadata": {},
   "outputs": [
    {
     "name": "stdout",
     "output_type": "stream",
     "text": [
      "e\n"
     ]
    }
   ],
   "source": [
    "#Exercise 48 - IndentationError\n",
    "\n",
    "#Question: The script is supposed to print out the letter \"e\" if the letter is in the string \"Hello,\" but it doesn't. Please try to fix the script.\n",
    "\n",
    "for letter in \"Hello\":\n",
    "    if letter == \"e\":\n",
    "        print(letter) # Addes a tab her for the indentation\n",
    "#Expected output:e "
   ]
  },
  {
   "cell_type": "code",
   "execution_count": 82,
   "id": "793e1f4f-51a0-4c02-9377-18c3777b960f",
   "metadata": {},
   "outputs": [
    {
     "name": "stdin",
     "output_type": "stream",
     "text": [
      "Please enter your password:  fdf\n"
     ]
    }
   ],
   "source": [
    "#Exercise 49 - Pass\n",
    "\n",
    "#Question: The code is supposed to get some input from the user, but instead, it produces an error. Please try to understand the error and then fix it.\n",
    "\n",
    "pass1 = input(\"Please enter your password: \")  # use pass1 instead of pass. pass is a reserved keyword"
   ]
  },
  {
   "cell_type": "code",
   "execution_count": 84,
   "id": "c22c64e9-b307-41d4-b568-591cf3973847",
   "metadata": {},
   "outputs": [
    {
     "name": "stdin",
     "output_type": "stream",
     "text": [
      "What's your age?  8\n"
     ]
    },
    {
     "name": "stdout",
     "output_type": "stream",
     "text": [
      "Last year you were 7.\n"
     ]
    }
   ],
   "source": [
    "#Exercise 50 - Text input\n",
    "#The code produces an error. Please understand the error and try to fix it\n",
    "\n",
    "age = int(input(\"What's your age? \")) # \n",
    "age_last_year = age - 1\n",
    "print(\"Last year you were %s.\" % age_last_year)\n"
   ]
  },
  {
   "cell_type": "code",
   "execution_count": 90,
   "id": "1a256021-7eb9-491f-b9b2-6a0bec78e3b4",
   "metadata": {},
   "outputs": [
    {
     "name": "stdout",
     "output_type": "stream",
     "text": [
      "<class 'str'>\n"
     ]
    }
   ],
   "source": [
    "#Exercise for reference: \n",
    "\n",
    "#The code produces an error. Please understand the error and try to fix it\n",
    "\n",
    "\n",
    "print(type(\"Hey\".replace(\"ey\",\"i\")[-1]))\n",
    "#Explanation:\n"
   ]
  },
  {
   "cell_type": "code",
   "execution_count": 92,
   "id": "e19eadc2-8fae-4cdb-9795-a5db6c590a9b",
   "metadata": {},
   "outputs": [
    {
     "name": "stdin",
     "output_type": "stream",
     "text": [
      "Enter first name:  Sedriuc\n",
      "Enter second name:  Lodonou\n"
     ]
    },
    {
     "name": "stdout",
     "output_type": "stream",
     "text": [
      "Your first name is Sedriuc and your second name is Lodonou\n"
     ]
    }
   ],
   "source": [
    "#Exercise 52 - String Formatting\n",
    "\n",
    "#Question: The code is supposed to ask the user to enter their name and surname, and then it prints out those user submitted values. Instead, \n",
    "#the code throws a TypeError. Please fix it so that the expected output is printed out.\n",
    "\n",
    "firstname = input(\"Enter first name: \")\n",
    "secondname = input(\"Enter second name: \")\n",
    "print(\"Your first name is %s and your second name is %s\" % (firstname, secondname)) # turned \"% firstname, secondname\" into \"% (firstname, secondname)\""
   ]
  },
  {
   "cell_type": "code",
   "execution_count": 108,
   "id": "9e81a72a-cc19-4aea-a169-af0699ebc425",
   "metadata": {},
   "outputs": [
    {
     "name": "stdout",
     "output_type": "stream",
     "text": [
      "[{'firstName': 'John', 'lastName': 'Doe'}, {'firstName': 'Anna', 'lastName': 'Smith'}, {'firstName': 'Peter', 'lastName': 'Jones'}]\n",
      "Smith\n"
     ]
    }
   ],
   "source": [
    "#Exercise 53 - Multilevel Dictionary\n",
    "\n",
    "#Question: Print out the last name of the second employee.\n",
    "\n",
    "d = {\"employees\":[{\"firstName\": \"John\", \"lastName\": \"Doe\"},\n",
    "                {\"firstName\": \"Anna\", \"lastName\": \"Smith\"},\n",
    "                {\"firstName\": \"Peter\", \"lastName\": \"Jones\"}],\n",
    "\"owners\":[{\"firstName\": \"Jack\", \"lastName\": \"Petter\"},\n",
    "          {\"firstName\": \"Jessy\", \"lastName\": \"Petter\"}]}\n",
    "#Expected output: Smith \n",
    "print(d['employees']) # th employees part of the dictionary\n",
    "print(d['employees'][1]['lastName']) #from the employte poart, we need the element with index 1 and the lastname of that\n"
   ]
  },
  {
   "cell_type": "code",
   "execution_count": 110,
   "id": "03d6be62-094b-4bc1-8ed1-cd0b7d657c5f",
   "metadata": {},
   "outputs": [],
   "source": [
    "#Exercise 54 - Modifying Multilevel Dictionaries\n",
    "#Question: Please update the dictionary by changing the last name of the second employee from Smith to Smooth or whatever takes your fancy.\n",
    "\n",
    "d = {\"employees\":[{\"firstName\": \"John\", \"lastName\": \"Doe\"},\n",
    "                {\"firstName\": \"Anna\", \"lastName\": \"Smith\"},\n",
    "                {\"firstName\": \"Peter\", \"lastName\": \"Jones\"}],\n",
    "\"owners\":[{\"firstName\": \"Jack\", \"lastName\": \"Petter\"},\n",
    "          {\"firstName\": \"Jessy\", \"lastName\": \"Petter\"}]}\n",
    "\n",
    "#change the last name of the second employee from smith to smooth\n",
    "d['employees'][1]['lastName'] = \"Smooth\""
   ]
  },
  {
   "cell_type": "code",
   "execution_count": 114,
   "id": "e22aec39-8945-4386-8ae8-073ce07e72f8",
   "metadata": {},
   "outputs": [
    {
     "data": {
      "text/plain": [
       "[{'firstName': 'John', 'lastName': 'Doe'},\n",
       " {'firstName': 'Anna', 'lastName': 'Smith'},\n",
       " {'firstName': 'Peter', 'lastName': 'Jones'},\n",
       " {'firstName': 'Albert', 'lastName': 'Bert'}]"
      ]
     },
     "execution_count": 114,
     "metadata": {},
     "output_type": "execute_result"
    }
   ],
   "source": [
    "#Exercise 55 - Adding to Multilevel Dictionaries\n",
    "#Question: Please add a new employee to the dictionary.\n",
    "\n",
    "d = {\"employees\":[{\"firstName\": \"John\", \"lastName\": \"Doe\"},\n",
    "                {\"firstName\": \"Anna\", \"lastName\": \"Smith\"},\n",
    "                {\"firstName\": \"Peter\", \"lastName\": \"Jones\"}],\n",
    "\"owners\":[{\"firstName\": \"Jack\", \"lastName\": \"Petter\"},\n",
    "          {\"firstName\": \"Jessy\", \"lastName\": \"Petter\"}]}\n",
    "\n",
    "# add this data to employees ==>   {'firstName': 'Albert', 'lastName': 'Bert'}\n",
    "d[\"employees\"].append(dict(firstName = \"Albert\", lastName = \"Bert\"))\n",
    "d['employees']"
   ]
  },
  {
   "cell_type": "code",
   "execution_count": 120,
   "id": "7e762a68-4cd5-4597-8b4e-2359779b7217",
   "metadata": {},
   "outputs": [],
   "source": [
    "#Exercise 56 - Dictionary to JSON\n",
    "\n",
    "#Question: Store the dictionary in a json file.\n",
    "\n",
    "d = {\"employees\":[{\"firstName\": \"John\", \"lastName\": \"Doe\"},\n",
    "                {\"firstName\": \"Anna\", \"lastName\": \"Smith\"},\n",
    "                {\"firstName\": \"Peter\", \"lastName\": \"Jones\"}],\n",
    "\"owners\":[{\"firstName\": \"Jack\", \"lastName\": \"Petter\"},\n",
    "          {\"firstName\": \"Jessy\", \"lastName\": \"Petter\"}]}\n",
    "\n",
    "with open(\"company1.json\" , \"w\") as file:\n",
    "   json.dump(d,file, indent=4)"
   ]
  },
  {
   "cell_type": "code",
   "execution_count": 124,
   "id": "c014a047-6f3a-4277-a357-44214c0fefa1",
   "metadata": {},
   "outputs": [
    {
     "name": "stdout",
     "output_type": "stream",
     "text": [
      "{'employees': [{'firstName': 'John', 'lastName': 'Doe'},\n",
      "               {'firstName': 'Anna', 'lastName': 'Smith'},\n",
      "               {'firstName': 'Peter', 'lastName': 'Jones'}],\n",
      " 'owners': [{'firstName': 'Jack', 'lastName': 'Petter'},\n",
      "            {'firstName': 'Jessy', 'lastName': 'Petter'}]}\n"
     ]
    }
   ],
   "source": [
    "#Exercise 57 - JSON to Dictionary\n",
    "\n",
    "#Question: Please download the file in the attachment and use Python to print out its content.\n",
    "import json\n",
    "from pprint import pprint\n",
    " \n",
    "with open(\"company1.json\",\"r\") as file:\n",
    "    d = json.loads(file.read())\n",
    " \n",
    "pprint(d)\n",
    "#We're opening the file in read mode and then using json.loads  which gets a string as output and creates a dictionary object out of that."
   ]
  },
  {
   "cell_type": "code",
   "execution_count": 128,
   "id": "d20731a6-9126-4674-920e-295be7b62e6e",
   "metadata": {},
   "outputs": [],
   "source": [
    "#Exercise 58 - Add to JSON\n",
    "\n",
    "#Question: Please download the json file in the attachment and use Python to add a new employee to the file's content so that the file looks like in the expected output below.\n",
    "import json\n",
    "with open(\"company1.json\",\"r+\") as file: # opening in read and write mode\n",
    "    d = json.loads(file.read())# create a dictionary\n",
    "    d[\"employees\"].append(dict(firstName = \"Albert\", lastName = \"Best\"))\n",
    "    file.seek(0) #put the sursor on the top of the file, sp that the contecnt that will be written will be done on yop\n",
    "    json.dump(d,file, indent=4, sort_keys=True)\n",
    "    file.truncate()"
   ]
  },
  {
   "cell_type": "code",
   "execution_count": null,
   "id": "ff22c2c1-2dec-45a0-8e2d-27a076abcb6c",
   "metadata": {},
   "outputs": [],
   "source": [
    "print(\"last test\")\n"
   ]
  }
 ],
 "metadata": {
  "kernelspec": {
   "display_name": "Python 3 (ipykernel)",
   "language": "python",
   "name": "python3"
  },
  "language_info": {
   "codemirror_mode": {
    "name": "ipython",
    "version": 3
   },
   "file_extension": ".py",
   "mimetype": "text/x-python",
   "name": "python",
   "nbconvert_exporter": "python",
   "pygments_lexer": "ipython3",
   "version": "3.11.4"
  }
 },
 "nbformat": 4,
 "nbformat_minor": 5
}
